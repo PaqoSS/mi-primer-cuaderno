{
 "cells": [
  {
   "cell_type": "markdown",
   "id": "dc4a9abb-af76-4247-82ec-bc69fb2fa0a8",
   "metadata": {},
   "source": [
    "# Data Science Tools and Ecosystem"
   ]
  },
  {
   "cell_type": "markdown",
   "id": "08216324-beaf-45cf-8b3c-6df0123c6839",
   "metadata": {
    "scrolled": true
   },
   "source": [
    "### Introduccion\n",
    "In this notebook, Data Science Tools and Ecosystem are summarized."
   ]
  },
  {
   "cell_type": "markdown",
   "id": "376f3743-e7b4-4abb-a7c2-fe2908b41d85",
   "metadata": {},
   "source": [
    "## **This is my first Jupyter notebook and I have covered the following tasks:**\n",
    "\n",
    "### objetives\n",
    "* Create a Jupyter Notebook\n",
    "* Insert Code\n",
    "* Insert markdown\n",
    "### List of data science tools\n",
    "* Jupyter Notebook\n",
    "* Rstudio\n",
    "* Apache Zeppelin\n",
    "### Commonly used data science libraries\n",
    "* Pandas\n",
    "* Numpys\n",
    "* Lattice\n",
    "\n"
   ]
  },
  {
   "cell_type": "markdown",
   "id": "0262c39f-b7bb-41ac-b70e-e0fe6eaf4937",
   "metadata": {},
   "source": [
    "### Some of the popular languages that Data Scientists use are:\n",
    "1. Julia\n",
    "2. R\n",
    "3. Sql\n",
    "4. Python"
   ]
  },
  {
   "cell_type": "markdown",
   "id": "58896a45-c087-4953-87f4-6129ad998078",
   "metadata": {},
   "source": [
    "## Description\n",
    "Some of the commonly used libraries used by Data Scientists include:\n",
    "1. Pandas\n",
    "2. Numpys\n",
    "3. Lattice\n"
   ]
  },
  {
   "cell_type": "markdown",
   "id": "6a4da55f-29e6-411f-a44c-3648ad6c1a94",
   "metadata": {},
   "source": [
    "|Data Science Tools|\n",
    "|-|\n",
    "|Jupyter Notebook|\n",
    "| Rstudio|\n",
    "|Apache Zeppelin|\n"
   ]
  },
  {
   "cell_type": "markdown",
   "id": "13ab0509-125c-4a08-bff7-49430122b767",
   "metadata": {},
   "source": [
    "### <u> Below are a few examples of evaluating arithmetic expressions in Python"
   ]
  },
  {
   "cell_type": "markdown",
   "id": "caeda2a6-d721-4f1a-b755-043e876e4fc8",
   "metadata": {},
   "source": [
    "### This a simple arithmetic expression to mutiply then add integers"
   ]
  },
  {
   "cell_type": "code",
   "execution_count": 116,
   "id": "2e569985-c38a-448c-aabc-447ac5f3baf5",
   "metadata": {},
   "outputs": [
    {
     "data": {
      "text/plain": [
       "17"
      ]
     },
     "execution_count": 116,
     "metadata": {},
     "output_type": "execute_result"
    }
   ],
   "source": [
    "(3*4)+5"
   ]
  },
  {
   "cell_type": "markdown",
   "id": "a9aacf1d-ecad-4cab-b5b4-c350b9a8df77",
   "metadata": {},
   "source": [
    "#### This will convert 200 minutes to hours by diving by 60"
   ]
  },
  {
   "cell_type": "code",
   "execution_count": 127,
   "id": "5a3ca152-5ead-4037-b619-1f9e8f8236d1",
   "metadata": {},
   "outputs": [
    {
     "data": {
      "text/plain": [
       "3.3333333333333335"
      ]
     },
     "execution_count": 127,
     "metadata": {},
     "output_type": "execute_result"
    }
   ],
   "source": [
    "minutos = 200\n",
    "horas = minutos / 60\n",
    "horas"
   ]
  },
  {
   "cell_type": "markdown",
   "id": "23bebb47-828e-4342-9025-f063c4894902",
   "metadata": {},
   "source": [
    "## **Author**\n",
    "## Francisco Santiago Ruiz\n"
   ]
  },
  {
   "cell_type": "code",
   "execution_count": null,
   "id": "adfc92d7-03fc-4233-84ed-b538e36ea464",
   "metadata": {},
   "outputs": [],
   "source": []
  }
 ],
 "metadata": {
  "kernelspec": {
   "display_name": "anaconda-ai-2024.04-py310",
   "language": "python",
   "name": "conda-env-anaconda-ai-2024.04-py310-py"
  },
  "language_info": {
   "codemirror_mode": {
    "name": "ipython",
    "version": 3
   },
   "file_extension": ".py",
   "mimetype": "text/x-python",
   "name": "python",
   "nbconvert_exporter": "python",
   "pygments_lexer": "ipython3",
   "version": "3.10.13"
  }
 },
 "nbformat": 4,
 "nbformat_minor": 5
}
